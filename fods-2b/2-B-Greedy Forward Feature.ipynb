{
 "cells": [
  {
   "cell_type": "code",
   "execution_count": 1,
   "id": "10482dbd",
   "metadata": {},
   "outputs": [
    {
     "name": "stdout",
     "output_type": "stream",
     "text": [
      "importing Jupyter notebook from SanketGD.ipynb\n"
     ]
    }
   ],
   "source": [
    "import pandas as pd\n",
    "import numpy as np\n",
    "import scipy as sp\n",
    "import matplotlib.pyplot as plt\n",
    "import import_ipynb\n",
    "\n",
    "%load_ext autoreload\n",
    "%autoreload 2\n",
    "%reload_ext autoreload\n",
    "\n",
    "import SanketGD as gd\n",
    "from ipynb.fs.full.SanketGD import *\n",
    "import importlib"
   ]
  },
  {
   "cell_type": "code",
   "execution_count": 2,
   "id": "2e6378aa",
   "metadata": {},
   "outputs": [
    {
     "name": "stdout",
     "output_type": "stream",
     "text": [
      "importing Jupyter notebook from SanketGD.ipynb\n"
     ]
    },
    {
     "data": {
      "text/plain": [
       "<module 'SanketGD' from 'SanketGD.ipynb'>"
      ]
     },
     "execution_count": 2,
     "metadata": {},
     "output_type": "execute_result"
    }
   ],
   "source": [
    "importlib.reload(gd)"
   ]
  },
  {
   "cell_type": "code",
   "execution_count": 3,
   "id": "82994021",
   "metadata": {},
   "outputs": [],
   "source": [
    "global deg, weights\n",
    "    \n",
    "#Shuffling\n",
    "df = pd.read_csv(\"fods_2.csv\").sample(frac = 1, random_state = 99)\n",
    "#Standardization - Z Score\n",
    "df.iloc[ : , 0:-1] = df.iloc[ : , 0:-1].apply(lambda x: (x - x.mean()) / x.std(), axis = 0)\n",
    "#80-20 Train Test\n",
    "train_len = int(0.8*len(df))\n",
    "train, test = np.split(df.to_numpy(), [train_len])\n",
    "feature_count = df.shape[1] - 1\n",
    "  \n",
    "X_train = np.delete(train, -1, 1)\n",
    "Y_train = train[:, -1]\n",
    "    \n",
    "X_test = np.delete(test, -1, 1)\n",
    "Y_test = test[:, -1]"
   ]
  },
  {
   "cell_type": "code",
   "execution_count": 4,
   "id": "538e6e2d",
   "metadata": {},
   "outputs": [
    {
     "name": "stdout",
     "output_type": "stream",
     "text": [
      "142.76025670576237\n",
      "142.71083186032368\n",
      "142.56443570348927\n",
      "142.42061509383777\n",
      "142.62250856882713\n",
      "142.5661901919482\n",
      "142.73735920720617\n",
      "142.72086688104088\n",
      "142.75692064271115\n",
      "142.75991424100644\n",
      "142.7499397696836\n",
      "142.31689963951138\n",
      "142.53656443235138\n",
      "142.75425828010444\n",
      "142.6221398246231\n",
      "142.72318253657966\n",
      "142.4734198575351\n",
      "142.76006340262182\n",
      "142.66291496807807\n",
      "142.4312319495155\n",
      "142.7540867781357\n",
      "141.88400113694817\n",
      "142.40821501743048\n",
      "142.75539265980373\n",
      "142.75872235760127\n",
      "142.75998931196324\n",
      "142.75998931196324\n",
      "141.88400113694817\n",
      "142.37701453270594\n",
      "142.66489420592305\n",
      "142.63399146778664\n",
      "146.20542434565093\n",
      "142.59128430045615\n",
      "142.53381070636183\n",
      "142.32050877988252\n",
      "142.47319327686796\n",
      "142.18269365039646\n",
      "142.4657686339124\n",
      "142.67414103622693\n",
      "28019815.64871274\n",
      "142.14412096940237\n",
      "142.14135633323917\n",
      "142.3684400807221\n",
      "142.0335488665801\n",
      "142.10523669534197\n",
      "142.1908197337816\n",
      "142.607399553551\n",
      "142.20119499907094\n",
      "142.68948567061432\n",
      "142.29252207183396\n",
      "142.3743984413675\n",
      "142.350413499232\n",
      "142.350413499232\n",
      "1\n",
      "[20]\n"
     ]
    }
   ],
   "source": [
    "features_chosen = []\n",
    "\n",
    "for x in range(feature_count + 1):\n",
    "    error = gd.linear_regression(X_train[: , features_chosen], Y_train, X_test[: , features_chosen], Y_test)\n",
    "    new_error = 1e9\n",
    "    new_feature = -1\n",
    "    for i in range(feature_count):\n",
    "        if i in features_chosen:\n",
    "            continue\n",
    "        curr_error = gd.linear_regression(X_train[: , features_chosen + [i]], Y_train, X_test[: , features_chosen + [i]], Y_test)\n",
    "        if curr_error < new_error:\n",
    "            new_error = curr_error\n",
    "            new_feature = i\n",
    "    if new_error < error:\n",
    "        features_chosen += [new_feature]\n",
    "    else:\n",
    "        break\n",
    "\n",
    "print(len(features_chosen))\n",
    "print(features_chosen)"
   ]
  },
  {
   "cell_type": "code",
   "execution_count": 5,
   "id": "72c5ac52",
   "metadata": {},
   "outputs": [],
   "source": [
    "#Find min testing and training error (run on the values from above)"
   ]
  },
  {
   "cell_type": "code",
   "execution_count": 6,
   "id": "b2e7eebf",
   "metadata": {},
   "outputs": [
    {
     "name": "stdout",
     "output_type": "stream",
     "text": [
      "RH_out\n"
     ]
    }
   ],
   "source": [
    "features_chosen_idx_list = [20]\n",
    "for i in features_chosen_idx_list:\n",
    "    print(df.columns[i])"
   ]
  },
  {
   "cell_type": "markdown",
   "id": "37761d71",
   "metadata": {},
   "source": [
    "Number of Features that make up the Optimal Regression Model using Greedy Forward Feature Selection = 1  \n",
    "\n",
    "Set of the Indexes of those Features = [20]  \n",
    "\n",
    "Labels of those Indexes = RH_out"
   ]
  },
  {
   "cell_type": "code",
   "execution_count": 7,
   "id": "4fa25925",
   "metadata": {},
   "outputs": [
    {
     "data": {
      "text/html": [
       "<div>\n",
       "<style scoped>\n",
       "    .dataframe tbody tr th:only-of-type {\n",
       "        vertical-align: middle;\n",
       "    }\n",
       "\n",
       "    .dataframe tbody tr th {\n",
       "        vertical-align: top;\n",
       "    }\n",
       "\n",
       "    .dataframe thead th {\n",
       "        text-align: right;\n",
       "    }\n",
       "</style>\n",
       "<table border=\"1\" class=\"dataframe\">\n",
       "  <thead>\n",
       "    <tr style=\"text-align: right;\">\n",
       "      <th></th>\n",
       "      <th>RH_out</th>\n",
       "      <th>Appliances</th>\n",
       "    </tr>\n",
       "  </thead>\n",
       "  <tbody>\n",
       "    <tr>\n",
       "      <th>4478</th>\n",
       "      <td>0.563446</td>\n",
       "      <td>60</td>\n",
       "    </tr>\n",
       "    <tr>\n",
       "      <th>4938</th>\n",
       "      <td>0.029666</td>\n",
       "      <td>60</td>\n",
       "    </tr>\n",
       "    <tr>\n",
       "      <th>3238</th>\n",
       "      <td>0.952661</td>\n",
       "      <td>40</td>\n",
       "    </tr>\n",
       "    <tr>\n",
       "      <th>2860</th>\n",
       "      <td>0.830336</td>\n",
       "      <td>50</td>\n",
       "    </tr>\n",
       "    <tr>\n",
       "      <th>2282</th>\n",
       "      <td>-1.460469</td>\n",
       "      <td>330</td>\n",
       "    </tr>\n",
       "  </tbody>\n",
       "</table>\n",
       "</div>"
      ],
      "text/plain": [
       "        RH_out  Appliances\n",
       "4478  0.563446          60\n",
       "4938  0.029666          60\n",
       "3238  0.952661          40\n",
       "2860  0.830336          50\n",
       "2282 -1.460469         330"
      ]
     },
     "execution_count": 7,
     "metadata": {},
     "output_type": "execute_result"
    }
   ],
   "source": [
    "df2 = df[['RH_out', 'Appliances']].copy()\n",
    "df2.head()"
   ]
  },
  {
   "cell_type": "code",
   "execution_count": 8,
   "id": "b8b5a3f6",
   "metadata": {},
   "outputs": [],
   "source": [
    "#80-20 Train Test\n",
    "train_len2 = int(0.8*len(df2))\n",
    "train2, test2 = np.split(df2.to_numpy(), [train_len2])\n",
    "feature_count = 1\n",
    "  \n",
    "X_train_2 = np.delete(train2, -1, 1)\n",
    "Y_train_2 = train2[:, -1]\n",
    "    \n",
    "X_test_2 = np.delete(test2, -1, 1)\n",
    "Y_test_2 = test2[:, -1]"
   ]
  },
  {
   "cell_type": "code",
   "execution_count": 9,
   "id": "b8da4fd3",
   "metadata": {},
   "outputs": [
    {
     "name": "stdout",
     "output_type": "stream",
     "text": [
      "141.88400113694817 [-15.81841883]\n"
     ]
    }
   ],
   "source": [
    "min_loss, weights_2 = linear_regression_2(X_train_2, Y_train_2, X_test_2, Y_test_2)\n",
    "print(min_loss, weights_2)"
   ]
  },
  {
   "cell_type": "code",
   "execution_count": 10,
   "id": "3665eefc",
   "metadata": {},
   "outputs": [
    {
     "name": "stdout",
     "output_type": "stream",
     "text": [
      "144.04237988159022\n"
     ]
    }
   ],
   "source": [
    "gd_2 = GradientDescent(X_train_2, Y_train_2, X_test_2, Y_test_2)\n",
    "print(gd_2.loss_calc_test(weights_2))"
   ]
  },
  {
   "cell_type": "code",
   "execution_count": 11,
   "id": "74f65433",
   "metadata": {},
   "outputs": [],
   "source": [
    "#For backward"
   ]
  },
  {
   "cell_type": "code",
   "execution_count": 16,
   "id": "2e09ff19",
   "metadata": {},
   "outputs": [
    {
     "data": {
      "text/html": [
       "<div>\n",
       "<style scoped>\n",
       "    .dataframe tbody tr th:only-of-type {\n",
       "        vertical-align: middle;\n",
       "    }\n",
       "\n",
       "    .dataframe tbody tr th {\n",
       "        vertical-align: top;\n",
       "    }\n",
       "\n",
       "    .dataframe thead th {\n",
       "        text-align: right;\n",
       "    }\n",
       "</style>\n",
       "<table border=\"1\" class=\"dataframe\">\n",
       "  <thead>\n",
       "    <tr style=\"text-align: right;\">\n",
       "      <th></th>\n",
       "      <th>RH_2</th>\n",
       "      <th>RH_6</th>\n",
       "      <th>RH_7</th>\n",
       "      <th>RH_8</th>\n",
       "      <th>T9</th>\n",
       "      <th>RH_9</th>\n",
       "      <th>Press_mm_hg</th>\n",
       "      <th>RH_out</th>\n",
       "      <th>Visibility</th>\n",
       "      <th>Appliances</th>\n",
       "    </tr>\n",
       "  </thead>\n",
       "  <tbody>\n",
       "    <tr>\n",
       "      <th>4478</th>\n",
       "      <td>-0.157537</td>\n",
       "      <td>1.025233</td>\n",
       "      <td>-0.014827</td>\n",
       "      <td>-0.289743</td>\n",
       "      <td>-0.877485</td>\n",
       "      <td>-0.221083</td>\n",
       "      <td>0.533575</td>\n",
       "      <td>0.563446</td>\n",
       "      <td>0.184296</td>\n",
       "      <td>60</td>\n",
       "    </tr>\n",
       "    <tr>\n",
       "      <th>4938</th>\n",
       "      <td>0.248767</td>\n",
       "      <td>-1.031219</td>\n",
       "      <td>-0.094797</td>\n",
       "      <td>0.610475</td>\n",
       "      <td>1.478267</td>\n",
       "      <td>-0.408310</td>\n",
       "      <td>0.349658</td>\n",
       "      <td>0.029666</td>\n",
       "      <td>-0.789476</td>\n",
       "      <td>60</td>\n",
       "    </tr>\n",
       "    <tr>\n",
       "      <th>3238</th>\n",
       "      <td>0.765162</td>\n",
       "      <td>1.468134</td>\n",
       "      <td>1.361307</td>\n",
       "      <td>1.122438</td>\n",
       "      <td>-1.211879</td>\n",
       "      <td>1.796509</td>\n",
       "      <td>1.126198</td>\n",
       "      <td>0.952661</td>\n",
       "      <td>1.581446</td>\n",
       "      <td>40</td>\n",
       "    </tr>\n",
       "    <tr>\n",
       "      <th>2860</th>\n",
       "      <td>-0.335142</td>\n",
       "      <td>1.104767</td>\n",
       "      <td>-0.165768</td>\n",
       "      <td>0.540584</td>\n",
       "      <td>-0.490132</td>\n",
       "      <td>0.141496</td>\n",
       "      <td>-2.109387</td>\n",
       "      <td>0.830336</td>\n",
       "      <td>-1.297530</td>\n",
       "      <td>50</td>\n",
       "    </tr>\n",
       "    <tr>\n",
       "      <th>2282</th>\n",
       "      <td>0.370415</td>\n",
       "      <td>-1.239017</td>\n",
       "      <td>-0.356637</td>\n",
       "      <td>-0.677726</td>\n",
       "      <td>0.543278</td>\n",
       "      <td>-0.096646</td>\n",
       "      <td>-0.279295</td>\n",
       "      <td>-1.460469</td>\n",
       "      <td>0.141958</td>\n",
       "      <td>330</td>\n",
       "    </tr>\n",
       "  </tbody>\n",
       "</table>\n",
       "</div>"
      ],
      "text/plain": [
       "          RH_2      RH_6      RH_7      RH_8        T9      RH_9  Press_mm_hg  \\\n",
       "4478 -0.157537  1.025233 -0.014827 -0.289743 -0.877485 -0.221083     0.533575   \n",
       "4938  0.248767 -1.031219 -0.094797  0.610475  1.478267 -0.408310     0.349658   \n",
       "3238  0.765162  1.468134  1.361307  1.122438 -1.211879  1.796509     1.126198   \n",
       "2860 -0.335142  1.104767 -0.165768  0.540584 -0.490132  0.141496    -2.109387   \n",
       "2282  0.370415 -1.239017 -0.356637 -0.677726  0.543278 -0.096646    -0.279295   \n",
       "\n",
       "        RH_out  Visibility  Appliances  \n",
       "4478  0.563446    0.184296          60  \n",
       "4938  0.029666   -0.789476          60  \n",
       "3238  0.952661    1.581446          40  \n",
       "2860  0.830336   -1.297530          50  \n",
       "2282 -1.460469    0.141958         330  "
      ]
     },
     "execution_count": 16,
     "metadata": {},
     "output_type": "execute_result"
    }
   ],
   "source": [
    "df2 = df[['RH_2', 'RH_6', 'RH_7', 'RH_8', 'T9', 'RH_9', 'Press_mm_hg', 'RH_out', 'Visibility', 'Appliances']].copy()\n",
    "df2.head()"
   ]
  },
  {
   "cell_type": "code",
   "execution_count": 17,
   "id": "913e395e",
   "metadata": {},
   "outputs": [],
   "source": [
    "#80-20 Train Test\n",
    "train_len2 = int(0.8*len(df2))\n",
    "train2, test2 = np.split(df2.to_numpy(), [train_len2])\n",
    "feature_count = 1\n",
    "  \n",
    "X_train_2 = np.delete(train2, -1, 1)\n",
    "Y_train_2 = train2[:, -1]\n",
    "    \n",
    "X_test_2 = np.delete(test2, -1, 1)\n",
    "Y_test_2 = test2[:, -1]"
   ]
  },
  {
   "cell_type": "code",
   "execution_count": 18,
   "id": "00f48236",
   "metadata": {},
   "outputs": [
    {
     "name": "stdout",
     "output_type": "stream",
     "text": [
      "1.1459748263980744e+113 [2.41794018e+112 2.41794018e+112 2.41794018e+112 2.41794018e+112\n",
      " 2.41794018e+112 2.41794018e+112 2.41794018e+112 2.41794018e+112\n",
      " 2.41794018e+112]\n"
     ]
    }
   ],
   "source": [
    "min_loss, weights_2 = linear_regression_2(X_train_2, Y_train_2, X_test_2, Y_test_2)\n",
    "print(min_loss, weights_2)"
   ]
  },
  {
   "cell_type": "code",
   "execution_count": 19,
   "id": "e81ab5bf",
   "metadata": {},
   "outputs": [
    {
     "name": "stdout",
     "output_type": "stream",
     "text": [
      "1.147956295923838e+113\n"
     ]
    }
   ],
   "source": [
    "gd_2 = GradientDescent(X_train_2, Y_train_2, X_test_2, Y_test_2)\n",
    "print(gd_2.loss_calc_test(weights_2))"
   ]
  },
  {
   "cell_type": "code",
   "execution_count": null,
   "id": "54bab414",
   "metadata": {},
   "outputs": [],
   "source": []
  }
 ],
 "metadata": {
  "kernelspec": {
   "display_name": "Python 3 (ipykernel)",
   "language": "python",
   "name": "python3"
  },
  "language_info": {
   "codemirror_mode": {
    "name": "ipython",
    "version": 3
   },
   "file_extension": ".py",
   "mimetype": "text/x-python",
   "name": "python",
   "nbconvert_exporter": "python",
   "pygments_lexer": "ipython3",
   "version": "3.9.5"
  }
 },
 "nbformat": 4,
 "nbformat_minor": 5
}
