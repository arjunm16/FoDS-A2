{
 "cells": [
  {
   "cell_type": "code",
   "execution_count": 28,
   "id": "aa2949cc",
   "metadata": {},
   "outputs": [],
   "source": [
    "import numpy as np\n",
    "import pandas as pd\n",
    "import matplotlib.pyplot as plt\n",
    "import math\n",
    "import scipy as sp"
   ]
  },
  {
   "cell_type": "code",
   "execution_count": 29,
   "id": "e79e993b",
   "metadata": {},
   "outputs": [],
   "source": [
    "class GradientDescent:\n",
    "    def __init__(self, X, Y, X_test, Y_test):\n",
    "        \"\"\"\n",
    "        X is an array of N,M where N is number of data points and M is the pairwise combsz of powers\n",
    "        Y is an array with the N target values\n",
    "        \"\"\"\n",
    "        \n",
    "        self.X = X\n",
    "        self.Y = Y\n",
    "        self.N, self.M = X.shape\n",
    "        \n",
    "        self.X_test = X_test\n",
    "        self.Y_test = Y_test\n",
    "        self.N_test, self.M_test = X_test.shape\n",
    "    \n",
    "    def err_sum(self, weights):\n",
    "        res_err = np.zeros(self.M)\n",
    "        for i in range(self.N):\n",
    "            pt_err = self.Y[i] - np.dot(weights, self.X[i])\n",
    "            for j in range(self.M):\n",
    "                res_err = res_err - pt_err * self.X[i][j]\n",
    "        return res_err\n",
    "    \n",
    "    def loss_calc(self, weights):\n",
    "        sum = 0\n",
    "        for i in range(self.N):\n",
    "            term = (self.Y[i] - np.dot(weights, self.X[i]))\n",
    "            sum = sum + (term ** 2)\n",
    "        return 0.5 * sum/self.N\n",
    "        \n",
    "\n",
    "    def loss_calc_test(self, weights):\n",
    "        sum_test = 0\n",
    "        for i in range(self.N_test):\n",
    "            term = (self.Y_test[i] - np.dot(weights, self.X_test[i]))\n",
    "            sum_test = sum_test + (term ** 2)\n",
    "        return 0.5 * sum_test/self.N_test\n",
    "    \n",
    "    def grad_desc_solver(self, lr, iters):\n",
    "        weights = np.zeros(self.M)\n",
    "        for it in range(iters):\n",
    "            weights = weights - lr * self.err_sum(weights)\n",
    "        return self.loss_calc(weights)"
   ]
  },
  {
   "cell_type": "code",
   "execution_count": 30,
   "id": "4cb23c70",
   "metadata": {},
   "outputs": [],
   "source": [
    "def create_poly(deg, dataset):\n",
    "    #We only need to worry about linear regression in our case - making degree 1\n",
    "    X, Y = []\n",
    "    for row in dataset:\n",
    "        Y.append(row[-1])\n",
    "        \n",
    "        # Precomputing powers of x1\n",
    "        pow_x1 = [1]\n",
    "        for i in range(degree + 1):\n",
    "            pow_x1.append(pow_x1[-1] * row[0])\n",
    "\n",
    "        # Precomputing powers of x2\n",
    "        pow_x2 = [1]\n",
    "        for i in range(degree + 1):\n",
    "            pow_x2.append(pow_x2[-1] * row[1])\n",
    "        \n",
    "        x = []\n",
    "        for i in range(degree + 1):\n",
    "            for j in range(degree - i + 1):\n",
    "                x.append(pow_x1[i] * pow_x2[j])\n",
    "        X.append(np.array(x))\n",
    "    return np.array(X), np.array(Y)"
   ]
  },
  {
   "cell_type": "code",
   "execution_count": 31,
   "id": "e8c83f4f",
   "metadata": {},
   "outputs": [],
   "source": [
    "def calc_weights(deg, weights):\n",
    "    k = 0\n",
    "    coeff = np.zeros((deg + 1, deg + 1))\n",
    "    for i in range(deg + 1):\n",
    "        for j in range(deg + 1):\n",
    "            coeff[i,j] = weights[k]\n",
    "            k+=1\n",
    "    return coeff"
   ]
  },
  {
   "cell_type": "code",
   "execution_count": 32,
   "id": "4bd515c0",
   "metadata": {},
   "outputs": [],
   "source": [
    "def linear_regression(X, Y, X_test, Y_test):\n",
    "    global deg, weights\n",
    "    deg = 1\n",
    "    gd = GradientDescent(X, Y, X_test, Y_test)\n",
    "    min_loss = -1\n",
    "    lr = 10e-15\n",
    "    iters = 50\n",
    "    loss = gd.grad_desc_solver(lr, iters)\n",
    "    print(loss)\n",
    "    min_loss = loss if min_loss == -1 or loss < min_loss else min_loss\n",
    "    return min_loss"
   ]
  }
 ],
 "metadata": {
  "kernelspec": {
   "display_name": "Python 3 (ipykernel)",
   "language": "python",
   "name": "python3"
  },
  "language_info": {
   "codemirror_mode": {
    "name": "ipython",
    "version": 3
   },
   "file_extension": ".py",
   "mimetype": "text/x-python",
   "name": "python",
   "nbconvert_exporter": "python",
   "pygments_lexer": "ipython3",
   "version": "3.9.5"
  }
 },
 "nbformat": 4,
 "nbformat_minor": 5
}
